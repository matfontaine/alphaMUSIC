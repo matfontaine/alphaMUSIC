{
 "cells": [
  {
   "cell_type": "code",
   "execution_count": 1,
   "id": "9149c77e",
   "metadata": {},
   "outputs": [],
   "source": [
    "%load_ext autoreload\n",
    "%autoreload 2"
   ]
  },
  {
   "cell_type": "code",
   "execution_count": 8,
   "id": "33e1b4b3",
   "metadata": {},
   "outputs": [],
   "source": [
    "import os\n",
    "from pathlib import Path\n",
    "\n",
    "import numpy as np\n",
    "import pandas as pd\n",
    "from natsort import natsorted\n",
    "\n",
    "import alphaMusic.utils.fls_utils as fls\n",
    "import alphaMusic.utils.acu_utils as acu\n",
    "import alphaMusic.utils.geo_utils as geo\n",
    "\n",
    "from alphaMusic.dataloaders import LibriSpeechDataset\n",
    "\n",
    "import soundfile as sf\n",
    "import matplotlib.pyplot as plt"
   ]
  },
  {
   "cell_type": "code",
   "execution_count": 5,
   "id": "8cf6a822",
   "metadata": {},
   "outputs": [
    {
     "name": "stdout",
     "output_type": "stream",
     "text": [
      "True\n",
      "True\n"
     ]
    }
   ],
   "source": [
    "path_to_librispeech = Path('..','data','LibriSpeech','dev-clean')\n",
    "path_to_recipe = Path('..','recipes','EUSIPCO22','data')\n",
    "print(path_to_librispeech.exists())\n",
    "print(path_to_recipe.exists())"
   ]
  },
  {
   "cell_type": "code",
   "execution_count": 6,
   "id": "eaea91bd",
   "metadata": {},
   "outputs": [],
   "source": [
    "db = LibriSpeechDataset('randomRT60_echo',path_to_librispeech,100,16000,[2,3],path_to_recipe)"
   ]
  },
  {
   "cell_type": "code",
   "execution_count": null,
   "id": "744a07c3",
   "metadata": {},
   "outputs": [],
   "source": [
    "import alphaMusic.utils.acu_utils as acu\n",
    "import alphaMusic.utils.geo_utils as geo"
   ]
  },
  {
   "cell_type": "code",
   "execution_count": null,
   "id": "e45ff18c",
   "metadata": {},
   "outputs": [],
   "source": [
    "# room parameters\n",
    "room_dim = [6,5,4]\n",
    "RT60 = .3\n",
    "SNR = 100\n",
    "\n",
    "# array parameters\n",
    "n_mics = 5\n",
    "# mic_center = np.c_[[3.2, 1.5, 1.5]]\n",
    "mic_center = np.c_[[3.2, 1.5, 1.2]]\n",
    "mic_radius = 0.04\n",
    "echo_array_setup = acu.get_echo_array(n_mics, mic_radius)\n",
    "\n",
    "# source parameters\n",
    "DOAs = [\n",
    "    geo.DOASetup(distance=1,azimuth=  0,elevation=0,deg=True),\n",
    "    geo.DOASetup(distance=1,azimuth= 30,elevation=0,deg=True),\n",
    "    geo.DOASetup(distance=1,azimuth=-30,elevation=0,deg=True),\n",
    "    geo.DOASetup(distance=1,azimuth= 50,elevation=0,deg=True),\n",
    "    geo.DOASetup(distance=1,azimuth=-50,elevation=0,deg=True),\n",
    "]\n",
    "fs = 16000\n",
    "source_signals = [\n",
    "    2*np.random.randn(2*fs) - 1,\n",
    "    2*np.random.randn(2*fs) - 1,\n",
    "    2*np.random.randn(2*fs) - 1,\n",
    "    2*np.random.randn(2*fs) - 1,\n",
    "    2*np.random.randn(2*fs) - 1,\n",
    "]\n",
    "noise_signal = 2*np.random.randn(3*fs) - 1"
   ]
  },
  {
   "cell_type": "code",
   "execution_count": null,
   "id": "4e06ab1e",
   "metadata": {},
   "outputs": [],
   "source": [
    "ac = acu.AcousticScene(\n",
    "    room_dim, RT60, SNR,\n",
    "    echo_array_setup, mic_center,\n",
    "    DOAs, source_signals, fs,\n",
    "    noise_signal\n",
    ")\n",
    "\n",
    "x = ac.simulate()"
   ]
  },
  {
   "cell_type": "code",
   "execution_count": null,
   "id": "0a903e96",
   "metadata": {},
   "outputs": [],
   "source": [
    "print(x.shape)\n",
    "plt.plot(x[0,:])\n",
    "plt.show()"
   ]
  },
  {
   "cell_type": "code",
   "execution_count": null,
   "id": "0e1c8ca8",
   "metadata": {},
   "outputs": [],
   "source": [
    "ac.plot()"
   ]
  },
  {
   "cell_type": "code",
   "execution_count": null,
   "id": "87e1c247",
   "metadata": {},
   "outputs": [],
   "source": [
    "ac.acoustic_params"
   ]
  },
  {
   "cell_type": "code",
   "execution_count": null,
   "id": "1837a494",
   "metadata": {},
   "outputs": [],
   "source": []
  }
 ],
 "metadata": {
  "kernelspec": {
   "display_name": "Python 3 (ipykernel)",
   "language": "python",
   "name": "python3"
  },
  "language_info": {
   "codemirror_mode": {
    "name": "ipython",
    "version": 3
   },
   "file_extension": ".py",
   "mimetype": "text/x-python",
   "name": "python",
   "nbconvert_exporter": "python",
   "pygments_lexer": "ipython3",
   "version": "3.8.5"
  }
 },
 "nbformat": 4,
 "nbformat_minor": 5
}
