{
 "cells": [
  {
   "cell_type": "code",
   "execution_count": 1,
   "id": "d25f4012",
   "metadata": {},
   "outputs": [],
   "source": [
    "%load_ext autoreload\n",
    "%autoreload 2"
   ]
  },
  {
   "cell_type": "code",
   "execution_count": 2,
   "id": "d7bc84af",
   "metadata": {},
   "outputs": [],
   "source": [
    "# imports\n",
    "import pickle\n",
    "import numpy as np\n",
    "import pandas as pd\n",
    "import matplotlib.pyplot as plt\n",
    "import seaborn as sns\n",
    "import soundfile as sf\n",
    "from pathlib import Path\n",
    "from tqdm.notebook import tqdm\n",
    "from scipy.signal import stft\n",
    "from random import uniform, sample\n",
    "from pyroomacoustics import doa, Room, ShoeBox"
   ]
  },
  {
   "cell_type": "code",
   "execution_count": 26,
   "id": "89529cff",
   "metadata": {},
   "outputs": [],
   "source": [
    "import alphaMusic.utils.acu_utils as acu\n",
    "from alphaMusic.alphaMUSIC import AlphaMUSIC, aMUSIC"
   ]
  },
  {
   "cell_type": "code",
   "execution_count": 145,
   "id": "c979c784",
   "metadata": {},
   "outputs": [],
   "source": [
    "fs = 16000 \n",
    "nfft = 1024\n",
    "n = 5*fs # simulation length of source signal (3 seconds)\n",
    "n_frames = 30\n",
    "max_order = 30\n",
    "doas_deg = np.linspace(start=0, stop=180, num=10, endpoint=True)\n",
    "rs = [1, 1.5, 2]\n",
    "mic_center = np.c_[[2,2,1]]\n",
    "mic_locs = mic_center + acu.get_echo_array(5, 0.04).mic_pos\n",
    "snr_lb, snr_ub = 0, 30"
   ]
  },
  {
   "cell_type": "code",
   "execution_count": 146,
   "id": "8a2333d5",
   "metadata": {},
   "outputs": [
    {
     "data": {
      "image/png": "[encoded data removed]",
      "text/plain": [
       "<Figure size 432x288 with 1 Axes>"
      ]
     },
     "metadata": {
      "needs_background": "light"
     },
     "output_type": "display_data"
    },
    {
     "name": "stdout",
     "output_type": "stream",
     "text": [
      "(142320,)\n"
     ]
    }
   ],
   "source": [
    "path = '../data/LibriSpeech/dev-clean/1673/143397/1673-143397-0001.flac'\n",
    "path_to_speech = Path(path)\n",
    "speech, fs = sf.read(path_to_speech)\n",
    "plt.plot(speech)\n",
    "plt.show()\n",
    "print(speech.shape)"
   ]
  },
  {
   "cell_type": "code",
   "execution_count": 147,
   "id": "1e1a9bae",
   "metadata": {},
   "outputs": [
    {
     "data": {
      "application/vnd.jupyter.widget-view+json": {
       "model_id": "51984647bd4f47c3a99dff1e3b482576",
       "version_major": 2,
       "version_minor": 0
      },
      "text/plain": [
       "  0%|          | 0/3 [00:00<?, ?it/s]"
      ]
     },
     "metadata": {},
     "output_type": "display_data"
    },
    {
     "data": {
      "application/vnd.jupyter.widget-view+json": {
       "model_id": "ba2037413f2a42888a7eaa735088d8c4",
       "version_major": 2,
       "version_minor": 0
      },
      "text/plain": [
       "  0%|          | 0/10 [00:00<?, ?it/s]"
      ]
     },
     "metadata": {},
     "output_type": "display_data"
    },
    {
     "data": {
      "application/vnd.jupyter.widget-view+json": {
       "model_id": "52a138885f8546828d1f0d8a69c6148b",
       "version_major": 2,
       "version_minor": 0
      },
      "text/plain": [
       "  0%|          | 0/10 [00:00<?, ?it/s]"
      ]
     },
     "metadata": {},
     "output_type": "display_data"
    },
    {
     "data": {
      "application/vnd.jupyter.widget-view+json": {
       "model_id": "15ec8712d45349acb09b0459464bf8c3",
       "version_major": 2,
       "version_minor": 0
      },
      "text/plain": [
       "  0%|          | 0/10 [00:00<?, ?it/s]"
      ]
     },
     "metadata": {},
     "output_type": "display_data"
    },
    {
     "data": {
      "application/vnd.jupyter.widget-view+json": {
       "model_id": "cfa8be4936a44134a6992677902c028b",
       "version_major": 2,
       "version_minor": 0
      },
      "text/plain": [
       "  0%|          | 0/3 [00:00<?, ?it/s]"
      ]
     },
     "metadata": {},
     "output_type": "display_data"
    },
    {
     "data": {
      "application/vnd.jupyter.widget-view+json": {
       "model_id": "64f1ad7d08714bc5a29f447b6783f46e",
       "version_major": 2,
       "version_minor": 0
      },
      "text/plain": [
       "  0%|          | 0/10 [00:00<?, ?it/s]"
      ]
     },
     "metadata": {},
     "output_type": "display_data"
    },
    {
     "data": {
      "application/vnd.jupyter.widget-view+json": {
       "model_id": "9acfc95fd9c84865bfcdae8802867edf",
       "version_major": 2,
       "version_minor": 0
      },
      "text/plain": [
       "  0%|          | 0/10 [00:00<?, ?it/s]"
      ]
     },
     "metadata": {},
     "output_type": "display_data"
    },
    {
     "data": {
      "application/vnd.jupyter.widget-view+json": {
       "model_id": "754668e713204872965918718a50454a",
       "version_major": 2,
       "version_minor": 0
      },
      "text/plain": [
       "  0%|          | 0/10 [00:00<?, ?it/s]"
      ]
     },
     "metadata": {},
     "output_type": "display_data"
    }
   ],
   "source": [
    "# room simulation\n",
    "data = []\n",
    "for source in ['noise', 'speech']:\n",
    "    for r in tqdm(rs):\n",
    "        for i, doa_deg in enumerate(tqdm(doas_deg)):\n",
    "            doa_rad = np.deg2rad(doa_deg)\n",
    "            source_loc = mic_center[:,0] + np.c_[r*np.cos(doa_rad), r*np.sin(doa_rad), 0][0]\n",
    "            room_dim = [uniform(4,6), uniform(4,6), uniform(2, 4)] # meters\n",
    "\n",
    "            room = ShoeBox(room_dim, fs=fs, max_order=max_order, absorption=0.2)\n",
    "            if source == 'speech': signal = speech[:n]\n",
    "            if source == 'noise' : signal = np.random.random(n)\n",
    "                \n",
    "            room.add_source(source_loc, signal=speech)\n",
    "            room.add_microphone_array(mic_locs)\n",
    "            snr = uniform(snr_lb, snr_ub)\n",
    "            room.simulate(snr=snr)\n",
    "            signals = room.mic_array.signals\n",
    "\n",
    "            # calculate n_frames stft frames starting at 1 second\n",
    "            stft_signals = stft(signals[:,fs:fs+n_frames*nfft], fs=fs, nperseg=nfft, noverlap=0, boundary=None)[2]\n",
    "            data.append([source,r,snr, doa_deg, stft_signals])"
   ]
  },
  {
   "cell_type": "code",
   "execution_count": 148,
   "id": "0940de11",
   "metadata": {},
   "outputs": [],
   "source": [
    "kwargs = {'L': mic_locs,\n",
    "          'fs': fs, \n",
    "          'nfft': nfft,\n",
    "          'azimuth': np.deg2rad(np.arange(180))\n",
    "}\n",
    "algorithms = {\n",
    "    'MUSIC': doa.music.MUSIC(**kwargs),\n",
    "    'aMUSIC_est' : aMUSIC(**kwargs,alpha=3,frequency_normalization=False),\n",
    "    'aMUSIC_fix' : aMUSIC(**kwargs,alpha=1.5,frequency_normalization=False),\n",
    "    'aMUSIC_gau' : aMUSIC(**kwargs,alpha=2,frequency_normalization=False),\n",
    "    'aMUSIC_tyl' : aMUSIC(**kwargs,alpha=0,frequency_normalization=False),\n",
    "    'NormMUSIC': doa.normmusic.NormMUSIC(**kwargs),\n",
    "    'aNormMUSIC_est' : aMUSIC(**kwargs,alpha=3,frequency_normalization=True),\n",
    "    'aNormMUSIC_fix' : aMUSIC(**kwargs,alpha=1.5,frequency_normalization=True),\n",
    "    'aNormMUSIC_gau' : aMUSIC(**kwargs,alpha=2,frequency_normalization=True),\n",
    "    'aNormMUSIC_tyl' : aMUSIC(**kwargs,alpha=0,frequency_normalization=True),\n",
    "    \n",
    "}\n",
    "columns = [\"source\", \"r\", \"snr\", \"DOA\", 'algo', \"DOAest\"]"
   ]
  },
  {
   "cell_type": "code",
   "execution_count": 149,
   "id": "34af3779",
   "metadata": {
    "scrolled": false
   },
   "outputs": [
    {
     "data": {
      "application/vnd.jupyter.widget-view+json": {
       "model_id": "576c740ef5d74c02867e2fcb34408b9e",
       "version_major": 2,
       "version_minor": 0
      },
      "text/plain": [
       "  0%|          | 0/60 [00:00<?, ?it/s]"
      ]
     },
     "metadata": {},
     "output_type": "display_data"
    }
   ],
   "source": [
    "predictions = {n:[] for n in columns}\n",
    "\n",
    "for source, r, snr, doa_deg, stft_signals in tqdm(data):\n",
    "\n",
    "    for algo_name, algo in algorithms.items():\n",
    "\n",
    "        snr = 10*int(snr / 10)\n",
    "        \n",
    "        predictions['source'].append(source)\n",
    "        predictions['r'].append(r)\n",
    "        predictions['snr'].append(snr)\n",
    "        predictions['DOA'].append(doa_deg)\n",
    "        predictions['algo'].append(algo_name)\n",
    "        \n",
    "#         if algo_name == \"aMUSIC\":\n",
    "#             stft_signals = stft_signals.transpose([1,2,0])\n",
    "#             print(doa_deg, snr)\n",
    "\n",
    "        algo.locate_sources(stft_signals, freq_range=[500.0, 4000.0])\n",
    "        doa_est = np.rad2deg(algo.azimuth_recon[0])\n",
    "        predictions['DOAest'].append(doa_est)\n",
    "#         print(doa_est)\n",
    "\n",
    "df = pd.DataFrame.from_dict(predictions)"
   ]
  },
  {
   "cell_type": "code",
   "execution_count": 150,
   "id": "39628bd9",
   "metadata": {
    "scrolled": false
   },
   "outputs": [
    {
     "data": {
      "text/html": [
       "<div>\n",
       "<style scoped>\n",
       "    .dataframe tbody tr th:only-of-type {\n",
       "        vertical-align: middle;\n",
       "    }\n",
       "\n",
       "    .dataframe tbody tr th {\n",
       "        vertical-align: top;\n",
       "    }\n",
       "\n",
       "    .dataframe thead th {\n",
       "        text-align: right;\n",
       "    }\n",
       "</style>\n",
       "<table border=\"1\" class=\"dataframe\">\n",
       "  <thead>\n",
       "    <tr style=\"text-align: right;\">\n",
       "      <th></th>\n",
       "      <th>source</th>\n",
       "      <th>r</th>\n",
       "      <th>snr</th>\n",
       "      <th>DOA</th>\n",
       "      <th>algo</th>\n",
       "      <th>DOAest</th>\n",
       "    </tr>\n",
       "  </thead>\n",
       "  <tbody>\n",
       "    <tr>\n",
       "      <th>0</th>\n",
       "      <td>noise</td>\n",
       "      <td>1.0</td>\n",
       "      <td>0</td>\n",
       "      <td>0.0</td>\n",
       "      <td>MUSIC</td>\n",
       "      <td>0.0</td>\n",
       "    </tr>\n",
       "    <tr>\n",
       "      <th>1</th>\n",
       "      <td>noise</td>\n",
       "      <td>1.0</td>\n",
       "      <td>0</td>\n",
       "      <td>0.0</td>\n",
       "      <td>aMUSIC_est</td>\n",
       "      <td>0.0</td>\n",
       "    </tr>\n",
       "    <tr>\n",
       "      <th>2</th>\n",
       "      <td>noise</td>\n",
       "      <td>1.0</td>\n",
       "      <td>0</td>\n",
       "      <td>0.0</td>\n",
       "      <td>aMUSIC_fix</td>\n",
       "      <td>0.0</td>\n",
       "    </tr>\n",
       "    <tr>\n",
       "      <th>3</th>\n",
       "      <td>noise</td>\n",
       "      <td>1.0</td>\n",
       "      <td>0</td>\n",
       "      <td>0.0</td>\n",
       "      <td>aMUSIC_gau</td>\n",
       "      <td>0.0</td>\n",
       "    </tr>\n",
       "    <tr>\n",
       "      <th>4</th>\n",
       "      <td>noise</td>\n",
       "      <td>1.0</td>\n",
       "      <td>0</td>\n",
       "      <td>0.0</td>\n",
       "      <td>aMUSIC_tyl</td>\n",
       "      <td>3.0</td>\n",
       "    </tr>\n",
       "    <tr>\n",
       "      <th>5</th>\n",
       "      <td>noise</td>\n",
       "      <td>1.0</td>\n",
       "      <td>0</td>\n",
       "      <td>0.0</td>\n",
       "      <td>NormMUSIC</td>\n",
       "      <td>0.0</td>\n",
       "    </tr>\n",
       "    <tr>\n",
       "      <th>6</th>\n",
       "      <td>noise</td>\n",
       "      <td>1.0</td>\n",
       "      <td>0</td>\n",
       "      <td>0.0</td>\n",
       "      <td>aNormMUSIC_est</td>\n",
       "      <td>0.0</td>\n",
       "    </tr>\n",
       "    <tr>\n",
       "      <th>7</th>\n",
       "      <td>noise</td>\n",
       "      <td>1.0</td>\n",
       "      <td>0</td>\n",
       "      <td>0.0</td>\n",
       "      <td>aNormMUSIC_fix</td>\n",
       "      <td>0.0</td>\n",
       "    </tr>\n",
       "    <tr>\n",
       "      <th>8</th>\n",
       "      <td>noise</td>\n",
       "      <td>1.0</td>\n",
       "      <td>0</td>\n",
       "      <td>0.0</td>\n",
       "      <td>aNormMUSIC_gau</td>\n",
       "      <td>0.0</td>\n",
       "    </tr>\n",
       "    <tr>\n",
       "      <th>9</th>\n",
       "      <td>noise</td>\n",
       "      <td>1.0</td>\n",
       "      <td>0</td>\n",
       "      <td>0.0</td>\n",
       "      <td>aNormMUSIC_tyl</td>\n",
       "      <td>0.0</td>\n",
       "    </tr>\n",
       "    <tr>\n",
       "      <th>10</th>\n",
       "      <td>noise</td>\n",
       "      <td>1.0</td>\n",
       "      <td>20</td>\n",
       "      <td>20.0</td>\n",
       "      <td>MUSIC</td>\n",
       "      <td>23.0</td>\n",
       "    </tr>\n",
       "    <tr>\n",
       "      <th>11</th>\n",
       "      <td>noise</td>\n",
       "      <td>1.0</td>\n",
       "      <td>20</td>\n",
       "      <td>20.0</td>\n",
       "      <td>aMUSIC_est</td>\n",
       "      <td>21.0</td>\n",
       "    </tr>\n",
       "    <tr>\n",
       "      <th>12</th>\n",
       "      <td>noise</td>\n",
       "      <td>1.0</td>\n",
       "      <td>20</td>\n",
       "      <td>20.0</td>\n",
       "      <td>aMUSIC_fix</td>\n",
       "      <td>21.0</td>\n",
       "    </tr>\n",
       "    <tr>\n",
       "      <th>13</th>\n",
       "      <td>noise</td>\n",
       "      <td>1.0</td>\n",
       "      <td>20</td>\n",
       "      <td>20.0</td>\n",
       "      <td>aMUSIC_gau</td>\n",
       "      <td>23.0</td>\n",
       "    </tr>\n",
       "    <tr>\n",
       "      <th>14</th>\n",
       "      <td>noise</td>\n",
       "      <td>1.0</td>\n",
       "      <td>20</td>\n",
       "      <td>20.0</td>\n",
       "      <td>aMUSIC_tyl</td>\n",
       "      <td>23.0</td>\n",
       "    </tr>\n",
       "    <tr>\n",
       "      <th>15</th>\n",
       "      <td>noise</td>\n",
       "      <td>1.0</td>\n",
       "      <td>20</td>\n",
       "      <td>20.0</td>\n",
       "      <td>NormMUSIC</td>\n",
       "      <td>20.0</td>\n",
       "    </tr>\n",
       "    <tr>\n",
       "      <th>16</th>\n",
       "      <td>noise</td>\n",
       "      <td>1.0</td>\n",
       "      <td>20</td>\n",
       "      <td>20.0</td>\n",
       "      <td>aNormMUSIC_est</td>\n",
       "      <td>20.0</td>\n",
       "    </tr>\n",
       "    <tr>\n",
       "      <th>17</th>\n",
       "      <td>noise</td>\n",
       "      <td>1.0</td>\n",
       "      <td>20</td>\n",
       "      <td>20.0</td>\n",
       "      <td>aNormMUSIC_fix</td>\n",
       "      <td>20.0</td>\n",
       "    </tr>\n",
       "    <tr>\n",
       "      <th>18</th>\n",
       "      <td>noise</td>\n",
       "      <td>1.0</td>\n",
       "      <td>20</td>\n",
       "      <td>20.0</td>\n",
       "      <td>aNormMUSIC_gau</td>\n",
       "      <td>20.0</td>\n",
       "    </tr>\n",
       "    <tr>\n",
       "      <th>19</th>\n",
       "      <td>noise</td>\n",
       "      <td>1.0</td>\n",
       "      <td>20</td>\n",
       "      <td>20.0</td>\n",
       "      <td>aNormMUSIC_tyl</td>\n",
       "      <td>21.0</td>\n",
       "    </tr>\n",
       "    <tr>\n",
       "      <th>20</th>\n",
       "      <td>noise</td>\n",
       "      <td>1.0</td>\n",
       "      <td>20</td>\n",
       "      <td>40.0</td>\n",
       "      <td>MUSIC</td>\n",
       "      <td>40.0</td>\n",
       "    </tr>\n",
       "    <tr>\n",
       "      <th>21</th>\n",
       "      <td>noise</td>\n",
       "      <td>1.0</td>\n",
       "      <td>20</td>\n",
       "      <td>40.0</td>\n",
       "      <td>aMUSIC_est</td>\n",
       "      <td>40.0</td>\n",
       "    </tr>\n",
       "    <tr>\n",
       "      <th>22</th>\n",
       "      <td>noise</td>\n",
       "      <td>1.0</td>\n",
       "      <td>20</td>\n",
       "      <td>40.0</td>\n",
       "      <td>aMUSIC_fix</td>\n",
       "      <td>39.0</td>\n",
       "    </tr>\n",
       "    <tr>\n",
       "      <th>23</th>\n",
       "      <td>noise</td>\n",
       "      <td>1.0</td>\n",
       "      <td>20</td>\n",
       "      <td>40.0</td>\n",
       "      <td>aMUSIC_gau</td>\n",
       "      <td>40.0</td>\n",
       "    </tr>\n",
       "    <tr>\n",
       "      <th>24</th>\n",
       "      <td>noise</td>\n",
       "      <td>1.0</td>\n",
       "      <td>20</td>\n",
       "      <td>40.0</td>\n",
       "      <td>aMUSIC_tyl</td>\n",
       "      <td>39.0</td>\n",
       "    </tr>\n",
       "    <tr>\n",
       "      <th>25</th>\n",
       "      <td>noise</td>\n",
       "      <td>1.0</td>\n",
       "      <td>20</td>\n",
       "      <td>40.0</td>\n",
       "      <td>NormMUSIC</td>\n",
       "      <td>40.0</td>\n",
       "    </tr>\n",
       "    <tr>\n",
       "      <th>26</th>\n",
       "      <td>noise</td>\n",
       "      <td>1.0</td>\n",
       "      <td>20</td>\n",
       "      <td>40.0</td>\n",
       "      <td>aNormMUSIC_est</td>\n",
       "      <td>40.0</td>\n",
       "    </tr>\n",
       "    <tr>\n",
       "      <th>27</th>\n",
       "      <td>noise</td>\n",
       "      <td>1.0</td>\n",
       "      <td>20</td>\n",
       "      <td>40.0</td>\n",
       "      <td>aNormMUSIC_fix</td>\n",
       "      <td>40.0</td>\n",
       "    </tr>\n",
       "    <tr>\n",
       "      <th>28</th>\n",
       "      <td>noise</td>\n",
       "      <td>1.0</td>\n",
       "      <td>20</td>\n",
       "      <td>40.0</td>\n",
       "      <td>aNormMUSIC_gau</td>\n",
       "      <td>40.0</td>\n",
       "    </tr>\n",
       "    <tr>\n",
       "      <th>29</th>\n",
       "      <td>noise</td>\n",
       "      <td>1.0</td>\n",
       "      <td>20</td>\n",
       "      <td>40.0</td>\n",
       "      <td>aNormMUSIC_tyl</td>\n",
       "      <td>40.0</td>\n",
       "    </tr>\n",
       "    <tr>\n",
       "      <th>30</th>\n",
       "      <td>noise</td>\n",
       "      <td>1.0</td>\n",
       "      <td>10</td>\n",
       "      <td>60.0</td>\n",
       "      <td>MUSIC</td>\n",
       "      <td>63.0</td>\n",
       "    </tr>\n",
       "    <tr>\n",
       "      <th>31</th>\n",
       "      <td>noise</td>\n",
       "      <td>1.0</td>\n",
       "      <td>10</td>\n",
       "      <td>60.0</td>\n",
       "      <td>aMUSIC_est</td>\n",
       "      <td>62.0</td>\n",
       "    </tr>\n",
       "    <tr>\n",
       "      <th>32</th>\n",
       "      <td>noise</td>\n",
       "      <td>1.0</td>\n",
       "      <td>10</td>\n",
       "      <td>60.0</td>\n",
       "      <td>aMUSIC_fix</td>\n",
       "      <td>61.0</td>\n",
       "    </tr>\n",
       "    <tr>\n",
       "      <th>33</th>\n",
       "      <td>noise</td>\n",
       "      <td>1.0</td>\n",
       "      <td>10</td>\n",
       "      <td>60.0</td>\n",
       "      <td>aMUSIC_gau</td>\n",
       "      <td>63.0</td>\n",
       "    </tr>\n",
       "    <tr>\n",
       "      <th>34</th>\n",
       "      <td>noise</td>\n",
       "      <td>1.0</td>\n",
       "      <td>10</td>\n",
       "      <td>60.0</td>\n",
       "      <td>aMUSIC_tyl</td>\n",
       "      <td>61.0</td>\n",
       "    </tr>\n",
       "    <tr>\n",
       "      <th>35</th>\n",
       "      <td>noise</td>\n",
       "      <td>1.0</td>\n",
       "      <td>10</td>\n",
       "      <td>60.0</td>\n",
       "      <td>NormMUSIC</td>\n",
       "      <td>61.0</td>\n",
       "    </tr>\n",
       "    <tr>\n",
       "      <th>36</th>\n",
       "      <td>noise</td>\n",
       "      <td>1.0</td>\n",
       "      <td>10</td>\n",
       "      <td>60.0</td>\n",
       "      <td>aNormMUSIC_est</td>\n",
       "      <td>60.0</td>\n",
       "    </tr>\n",
       "    <tr>\n",
       "      <th>37</th>\n",
       "      <td>noise</td>\n",
       "      <td>1.0</td>\n",
       "      <td>10</td>\n",
       "      <td>60.0</td>\n",
       "      <td>aNormMUSIC_fix</td>\n",
       "      <td>60.0</td>\n",
       "    </tr>\n",
       "    <tr>\n",
       "      <th>38</th>\n",
       "      <td>noise</td>\n",
       "      <td>1.0</td>\n",
       "      <td>10</td>\n",
       "      <td>60.0</td>\n",
       "      <td>aNormMUSIC_gau</td>\n",
       "      <td>61.0</td>\n",
       "    </tr>\n",
       "    <tr>\n",
       "      <th>39</th>\n",
       "      <td>noise</td>\n",
       "      <td>1.0</td>\n",
       "      <td>10</td>\n",
       "      <td>60.0</td>\n",
       "      <td>aNormMUSIC_tyl</td>\n",
       "      <td>60.0</td>\n",
       "    </tr>\n",
       "  </tbody>\n",
       "</table>\n",
       "</div>"
      ],
      "text/plain": [
       "   source    r  snr   DOA            algo  DOAest\n",
       "0   noise  1.0    0   0.0           MUSIC     0.0\n",
       "1   noise  1.0    0   0.0      aMUSIC_est     0.0\n",
       "2   noise  1.0    0   0.0      aMUSIC_fix     0.0\n",
       "3   noise  1.0    0   0.0      aMUSIC_gau     0.0\n",
       "4   noise  1.0    0   0.0      aMUSIC_tyl     3.0\n",
       "5   noise  1.0    0   0.0       NormMUSIC     0.0\n",
       "6   noise  1.0    0   0.0  aNormMUSIC_est     0.0\n",
       "7   noise  1.0    0   0.0  aNormMUSIC_fix     0.0\n",
       "8   noise  1.0    0   0.0  aNormMUSIC_gau     0.0\n",
       "9   noise  1.0    0   0.0  aNormMUSIC_tyl     0.0\n",
       "10  noise  1.0   20  20.0           MUSIC    23.0\n",
       "11  noise  1.0   20  20.0      aMUSIC_est    21.0\n",
       "12  noise  1.0   20  20.0      aMUSIC_fix    21.0\n",
       "13  noise  1.0   20  20.0      aMUSIC_gau    23.0\n",
       "14  noise  1.0   20  20.0      aMUSIC_tyl    23.0\n",
       "15  noise  1.0   20  20.0       NormMUSIC    20.0\n",
       "16  noise  1.0   20  20.0  aNormMUSIC_est    20.0\n",
       "17  noise  1.0   20  20.0  aNormMUSIC_fix    20.0\n",
       "18  noise  1.0   20  20.0  aNormMUSIC_gau    20.0\n",
       "19  noise  1.0   20  20.0  aNormMUSIC_tyl    21.0\n",
       "20  noise  1.0   20  40.0           MUSIC    40.0\n",
       "21  noise  1.0   20  40.0      aMUSIC_est    40.0\n",
       "22  noise  1.0   20  40.0      aMUSIC_fix    39.0\n",
       "23  noise  1.0   20  40.0      aMUSIC_gau    40.0\n",
       "24  noise  1.0   20  40.0      aMUSIC_tyl    39.0\n",
       "25  noise  1.0   20  40.0       NormMUSIC    40.0\n",
       "26  noise  1.0   20  40.0  aNormMUSIC_est    40.0\n",
       "27  noise  1.0   20  40.0  aNormMUSIC_fix    40.0\n",
       "28  noise  1.0   20  40.0  aNormMUSIC_gau    40.0\n",
       "29  noise  1.0   20  40.0  aNormMUSIC_tyl    40.0\n",
       "30  noise  1.0   10  60.0           MUSIC    63.0\n",
       "31  noise  1.0   10  60.0      aMUSIC_est    62.0\n",
       "32  noise  1.0   10  60.0      aMUSIC_fix    61.0\n",
       "33  noise  1.0   10  60.0      aMUSIC_gau    63.0\n",
       "34  noise  1.0   10  60.0      aMUSIC_tyl    61.0\n",
       "35  noise  1.0   10  60.0       NormMUSIC    61.0\n",
       "36  noise  1.0   10  60.0  aNormMUSIC_est    60.0\n",
       "37  noise  1.0   10  60.0  aNormMUSIC_fix    60.0\n",
       "38  noise  1.0   10  60.0  aNormMUSIC_gau    61.0\n",
       "39  noise  1.0   10  60.0  aNormMUSIC_tyl    60.0"
      ]
     },
     "execution_count": 150,
     "metadata": {},
     "output_type": "execute_result"
    }
   ],
   "source": [
    "pd.set_option(\"display.max_rows\", 40)\n",
    "df.head(40)"
   ]
  },
  {
   "cell_type": "code",
   "execution_count": 151,
   "id": "e9f4fb0e",
   "metadata": {},
   "outputs": [],
   "source": [
    "MAE, MEDAE = {}, {}\n",
    "\n",
    "def calc_ae(a,b):\n",
    "    x = np.abs(a-b)\n",
    "    return np.min(np.array((x, np.abs(360-x))), axis=0)\n",
    "\n",
    "for algo_name in algorithms.keys():\n",
    "        \n",
    "    curr_df = df.loc[df['algo'] == algo_name]\n",
    "    \n",
    "    ae = calc_ae(curr_df.loc[:,[\"DOA\"]].to_numpy(), \n",
    "                 curr_df.loc[:,[\"DOAest\"]].to_numpy())\n",
    "    MAE[algo_name] = np.mean(ae)\n",
    "    MEDAE[algo_name] = np.median(ae)\n",
    "    \n",
    "err = calc_ae(df.loc[:,[\"DOA\"]].to_numpy(), df.loc[:,[\"DOAest\"]].to_numpy()).squeeze()\n",
    "df['Err'] = err"
   ]
  },
  {
   "cell_type": "code",
   "execution_count": 152,
   "id": "2a040fa7",
   "metadata": {},
   "outputs": [
    {
     "data": {
      "text/plain": [
       "<AxesSubplot:title={'center':'speech'}, xlabel='r', ylabel='Err'>"
      ]
     },
     "execution_count": 152,
     "metadata": {},
     "output_type": "execute_result"
    },
    {
     "data": {
      "image/png": "[encoded data removed]",
      "text/plain": [
       "<Figure size 1440x360 with 2 Axes>"
      ]
     },
     "metadata": {
      "needs_background": "light"
     },
     "output_type": "display_data"
    }
   ],
   "source": [
    "plt.figure(figsize=(20,5))\n",
    "plt.subplot(121)\n",
    "plt.title('broadband')\n",
    "sns.barplot(x='r',y='Err', hue='algo', data=df.loc[df['source'] == 'noise'])\n",
    "plt.subplot(122)\n",
    "plt.title('speech')\n",
    "sns.barplot(x='r',y='Err', hue='algo', data=df.loc[df['source'] == 'speech'])"
   ]
  },
  {
   "cell_type": "code",
   "execution_count": 153,
   "id": "fa1b9b85",
   "metadata": {},
   "outputs": [
    {
     "data": {
      "text/plain": [
       "<AxesSubplot:title={'center':'speech'}, xlabel='r', ylabel='Err'>"
      ]
     },
     "execution_count": 153,
     "metadata": {},
     "output_type": "execute_result"
    },
    {
     "data": {
      "image/png": "[encoded data removed]",
      "text/plain": [
       "<Figure size 1440x720 with 1 Axes>"
      ]
     },
     "metadata": {
      "needs_background": "light"
     },
     "output_type": "display_data"
    }
   ],
   "source": [
    "plt.figure(figsize=(20,10))\n",
    "plt.title('speech')\n",
    "sns.barplot(x='r',y='Err', hue='algo', data=df.loc[df['source'] == 'speech'])"
   ]
  },
  {
   "cell_type": "code",
   "execution_count": 154,
   "id": "a69fdcd9",
   "metadata": {},
   "outputs": [
    {
     "data": {
      "image/png": "[encoded data removed]",
      "text/plain": [
       "<Figure size 720x360 with 2 Axes>"
      ]
     },
     "metadata": {
      "needs_background": "light"
     },
     "output_type": "display_data"
    }
   ],
   "source": [
    "plt.figure(figsize=(10,5))\n",
    "plt.subplot(121)\n",
    "sns.barplot(x='snr',y='Err', hue='algo', data=df.loc[df['source'] == 'noise'])\n",
    "plt.subplot(122)\n",
    "sns.barplot(x='snr',y='Err', hue='algo', data=df.loc[df['source'] == 'speech'])\n",
    "plt.show()"
   ]
  },
  {
   "cell_type": "code",
   "execution_count": 155,
   "id": "221ff0cf",
   "metadata": {},
   "outputs": [
    {
     "data": {
      "image/png": "[encoded data removed]",
      "text/plain": [
       "<Figure size 1440x720 with 1 Axes>"
      ]
     },
     "metadata": {
      "needs_background": "light"
     },
     "output_type": "display_data"
    }
   ],
   "source": [
    "plt.figure(figsize=(20,10))\n",
    "sns.barplot(x='snr',y='Err', hue='algo', data=df.loc[df['source'] == 'speech'])\n",
    "plt.show()"
   ]
  },
  {
   "cell_type": "code",
   "execution_count": 156,
   "id": "738db298",
   "metadata": {},
   "outputs": [
    {
     "data": {
      "text/plain": [
       "<AxesSubplot:xlabel='DOA', ylabel='DOAest'>"
      ]
     },
     "execution_count": 156,
     "metadata": {},
     "output_type": "execute_result"
    },
    {
     "data": {
      "image/png": "[encoded data removed]",
      "text/plain": [
       "<Figure size 432x288 with 1 Axes>"
      ]
     },
     "metadata": {
      "needs_background": "light"
     },
     "output_type": "display_data"
    }
   ],
   "source": [
    "sns.scatterplot(x='DOA',y='DOAest', hue='algo', data=df)"
   ]
  },
  {
   "cell_type": "code",
   "execution_count": null,
   "id": "f7a1c18c",
   "metadata": {},
   "outputs": [],
   "source": []
  }
 ],
 "metadata": {
  "kernelspec": {
   "display_name": "Python 3 (ipykernel)",
   "language": "python",
   "name": "python3"
  },
  "language_info": {
   "codemirror_mode": {
    "name": "ipython",
    "version": 3
   },
   "file_extension": ".py",
   "mimetype": "text/x-python",
   "name": "python",
   "nbconvert_exporter": "python",
   "pygments_lexer": "ipython3",
   "version": "3.8.5"
  }
 },
 "nbformat": 4,
 "nbformat_minor": 5
}
